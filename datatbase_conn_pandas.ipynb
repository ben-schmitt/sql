{
 "cells": [
  {
   "cell_type": "code",
   "execution_count": null,
   "metadata": {},
   "outputs": [],
   "source": [
    "#Setting Up a ReadOnly Database Connection and getting data into Pandas"
   ]
  },
  {
   "cell_type": "code",
   "execution_count": null,
   "metadata": {},
   "outputs": [],
   "source": [
    "import psycopg2\n",
    "import pandas as pd"
   ]
  },
  {
   "cell_type": "code",
   "execution_count": null,
   "metadata": {},
   "outputs": [],
   "source": [
    "sql_string = None # sql_string = 'dbname=readonly user=readonly password=secret_xyzzy host=hostname.com port=5432'\n",
    "\n",
    "# import .py file with database name, user, and password\n",
    "import hidden\n",
    "\n",
    "# define dbname, user, password, host, and port\n",
    "sql_string = hidden.psycopg2(hidden.readonly())\n",
    "\n",
    "if sql_string is None:\n",
    "    raise Exception('You need to define your sql_string')"
   ]
  },
  {
   "cell_type": "code",
   "execution_count": null,
   "metadata": {},
   "outputs": [],
   "source": [
    "#define connection\n",
    "conn = psycopg2.connect(sql_string,connect_timeout=3)"
   ]
  },
  {
   "cell_type": "code",
   "execution_count": null,
   "metadata": {},
   "outputs": [],
   "source": [
    "#count records\n",
    "sql = \"SELECT count(*) AS count FROM taxdata;\"\n",
    "df = pd.read_sql_query(sql, conn)\n",
    "df.head()"
   ]
  },
  {
   "cell_type": "code",
   "execution_count": null,
   "metadata": {},
   "outputs": [],
   "source": [
    "#get a subset of records\n",
    "my_sql = 'select * from taxdata where ein = 742661023 limit 500;'\n",
    "my_df = pd.read_sql_query(my_sql, conn)\n",
    "my_df.head()"
   ]
  }
 ],
 "metadata": {
  "kernelspec": {
   "display_name": "Python 3",
   "language": "python",
   "name": "python3"
  },
  "language_info": {
   "name": "python",
   "version": "3.10.4"
  },
  "orig_nbformat": 4
 },
 "nbformat": 4,
 "nbformat_minor": 2
}
